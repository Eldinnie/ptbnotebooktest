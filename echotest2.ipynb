{
 "cells": [
  {
   "cell_type": "markdown",
   "metadata": {},
   "source": [
    "# Simple Bot to reply to Telegram messages\n",
    "#### This program is dedicated to the public domain under the CC0 license.\n",
    "\n",
    "This Bot uses the `Updater` class to handle the bot.\n",
    "\n",
    "First, a few handler functions are defined. Then, those functions are passed to\n",
    "the Dispatcher and registered at their respective places.\n",
    "Then, the bot is started and runs until we press Ctrl-C on the command line.\n",
    "\n",
    "Usage:\n",
    "Basic Echobot example, repeats messages.\n",
    "\n",
    "First we install the library and import all import all classes we need:"
   ]
  },
  {
   "cell_type": "code",
   "execution_count": null,
   "metadata": {
    "collapsed": false
   },
   "outputs": [],
   "source": [
    "!pip install python-telegram-bot\n",
    "from telegram.ext import Updater, CommandHandler, MessageHandler, Filters\n",
    "import logging\n",
    "\n",
    "# Enable logging\n",
    "logging.basicConfig(format='%(asctime)s - %(name)s - %(levelname)s - %(message)s',\n",
    "                    level=logging.DEBUG)\n",
    "\n",
    "logger = logging.getLogger(__name__)"
   ]
  },
  {
   "cell_type": "markdown",
   "metadata": {},
   "source": [
    "Define a few command handlers. These usually take the two arguments bot and\n",
    "update. Error handlers also receive the raised TelegramError object in error."
   ]
  },
  {
   "cell_type": "code",
   "execution_count": null,
   "metadata": {
    "collapsed": false
   },
   "outputs": [],
   "source": [
    "def start(bot, update):\n",
    "    update.message.reply_text('Hi!')\n",
    "\n",
    "\n",
    "def help(bot, update):\n",
    "    update.message.reply_text('Help!')\n",
    "\n",
    "\n",
    "def echo(bot, update):\n",
    "    update.message.reply_text(update.message.text)\n",
    "\n",
    "\n",
    "def error(bot, update, error):\n",
    "    logger.warn('Update \"%s\" caused error \"%s\"' % (update, error))"
   ]
  },
  {
   "cell_type": "markdown",
   "metadata": {},
   "source": [
    "Create the EventHandler and pass it your bot's token."
   ]
  },
  {
   "cell_type": "code",
   "execution_count": null,
   "metadata": {
    "collapsed": true
   },
   "outputs": [],
   "source": [
    "updater = Updater(\"134721737:AAGBwH7IAXU8pu6z8873rs2xxstnqUd1igo\")"
   ]
  },
  {
   "cell_type": "code",
   "execution_count": null,
   "metadata": {
    "collapsed": true
   },
   "outputs": [],
   "source": [
    "# Get the dispatcher to register handlers\n",
    "dp = updater.dispatcher\n",
    "\n",
    "# on different commands - answer in Telegram\n",
    "dp.add_handler(CommandHandler(\"start\", start))\n",
    "dp.add_handler(CommandHandler(\"help\", help))\n",
    "\n",
    "# on noncommand i.e message - echo the message on Telegram\n",
    "dp.add_handler(MessageHandler(Filters.text, echo))\n",
    "\n",
    "# log all errors\n",
    "dp.add_error_handler(error)"
   ]
  },
  {
   "cell_type": "markdown",
   "metadata": {},
   "source": [
    "Start the Bot"
   ]
  },
  {
   "cell_type": "code",
   "execution_count": null,
   "metadata": {
    "collapsed": false
   },
   "outputs": [],
   "source": [
    "updater.start_polling()\n",
    "\n",
    "# Run the bot until you press Ctrl-C or the process receives SIGINT,\n",
    "# SIGTERM or SIGABRT. This should be used most of the time, since\n",
    "# start_polling() is non-blocking and will stop the bot gracefully.\n",
    "updater.idle()"
   ]
  },
  {
   "cell_type": "markdown",
   "metadata": {},
   "source": [
    "After you ran all the above your bot will be polling and respond."
   ]
  },
  {
   "cell_type": "code",
   "execution_count": null,
   "metadata": {
    "collapsed": true
   },
   "outputs": [],
   "source": []
  }
 ],
 "metadata": {
  "kernelspec": {
   "display_name": "Python 3",
   "language": "python",
   "name": "python3"
  },
  "language_info": {
   "codemirror_mode": {
    "name": "ipython",
    "version": 3
   },
   "file_extension": ".py",
   "mimetype": "text/x-python",
   "name": "python",
   "nbconvert_exporter": "python",
   "pygments_lexer": "ipython3",
   "version": "3.6.0"
  }
 },
 "nbformat": 4,
 "nbformat_minor": 2
}
